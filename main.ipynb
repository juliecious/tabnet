{
 "cells": [
  {
   "cell_type": "code",
   "execution_count": 32,
   "metadata": {
    "collapsed": true
   },
   "outputs": [],
   "source": [
    "import torch\n",
    "import torch.nn as nn\n",
    "from torch.autograd import Variable\n",
    "import torchvision.utils as vutils\n",
    "from torch.utils.data import DataLoader\n",
    "import torchvision.transforms as transforms\n",
    "import torch.nn.functional as F\n",
    "\n",
    "import pandas as pd\n",
    "import numpy as np"
   ]
  },
  {
   "cell_type": "code",
   "execution_count": 44,
   "outputs": [],
   "source": [
    "from pytorch_tabnet.tab_network import TabNetEncoder, TabNetDecoder, EmbeddingGenerator\n",
    "from torch.distributions.normal import Normal\n",
    "\n",
    "class Generator(nn.Module):\n",
    "\t\"\"\"\n",
    "\tDefines generator architecture\n",
    "\n",
    "\tParameters\n",
    "\t----------\n",
    "\tinput_dim : int\n",
    "\t\tNumber of features\n",
    "\toutput_dim : int or list of int for multi task classification\n",
    "\t\tDimension of network output\n",
    "\t\texamples : one for regression, 2 for binary classification etc...\n",
    "\t\"\"\"\n",
    "\tdef __init__(self, input_dim, output_dim, cat_dims, cat_idxs, cat_emb_dim):\n",
    "\t\tsuper(Generator, self).__init__()\n",
    "\t\tself.embed = EmbeddingGenerator(input_dim, cat_dims, cat_idxs, cat_emb_dim)\n",
    "\t\tself.encode = TabNetEncoder(input_dim, output_dim)\n",
    "\t\tself.decode = TabNetDecoder(input_dim)\n",
    "\n",
    "\tdef forward(self, data):\n",
    "\t\t\"\"\"\n",
    "\t\tFunction for completing a forward pass of the Decoder: Given a noise vector,\n",
    "\t\treturns a generated data.\n",
    "\n",
    "\t\tParameters\n",
    "\t\t----------\n",
    "\t\t\tdata: Tensor\n",
    "\t\t\t\ttabular data tensor with dimensions (batch_size, im_chan, im_height, im_width)\n",
    "\t\tReturns\n",
    "        -------\n",
    "\t\tdecoding:\n",
    "\t\t\tthe autoencoded tabular data\n",
    "\t\tq_dist:\n",
    "\t\t\tthe z-distribution of the encoding\n",
    "\t\t\"\"\"\n",
    "\t\tembedded_x = self.embed(data)\n",
    "\t\tq_mean, q_stddev = self.encode(embedded_x)\n",
    "\t\tq_dist = Normal(q_mean, q_stddev)\n",
    "\t\tz_sample = q_dist.rsample() # Sample once from each distribution, using the `rsample` notation\n",
    "\t\tdecoding = self.decode(z_sample)\n",
    "\t\treturn decoding, q_dist"
   ],
   "metadata": {
    "collapsed": false,
    "pycharm": {
     "name": "#%%\n"
    }
   }
  },
  {
   "cell_type": "code",
   "execution_count": 45,
   "outputs": [],
   "source": [
    "from torch.distributions.kl import kl_divergence\n",
    "def kl_divergence_loss(q_dist):\n",
    "    return kl_divergence(\n",
    "        q_dist, Normal(torch.zeros_like(q_dist.mean), torch.ones_like(q_dist.stddev))\n",
    "    ).sum(-1)"
   ],
   "metadata": {
    "collapsed": false,
    "pycharm": {
     "name": "#%%\n"
    }
   }
  },
  {
   "cell_type": "code",
   "execution_count": null,
   "outputs": [],
   "source": [],
   "metadata": {
    "collapsed": false,
    "pycharm": {
     "name": "#%%\n"
    }
   }
  }
 ],
 "metadata": {
  "kernelspec": {
   "display_name": "Python 3",
   "language": "python",
   "name": "python3"
  },
  "language_info": {
   "codemirror_mode": {
    "name": "ipython",
    "version": 2
   },
   "file_extension": ".py",
   "mimetype": "text/x-python",
   "name": "python",
   "nbconvert_exporter": "python",
   "pygments_lexer": "ipython2",
   "version": "2.7.6"
  }
 },
 "nbformat": 4,
 "nbformat_minor": 0
}